{
  "nbformat": 4,
  "nbformat_minor": 0,
  "metadata": {
    "colab": {
      "provenance": [],
      "authorship_tag": "ABX9TyPQKJWRAIyVkWBN58exQrKI",
      "include_colab_link": true
    },
    "kernelspec": {
      "name": "python3",
      "display_name": "Python 3"
    },
    "language_info": {
      "name": "python"
    }
  },
  "cells": [
    {
      "cell_type": "markdown",
      "metadata": {
        "id": "view-in-github",
        "colab_type": "text"
      },
      "source": [
        "<a href=\"https://colab.research.google.com/github/Vyshu0401/PRODIGY_CS_03/blob/main/PaasswordChecker.ipynb\" target=\"_parent\"><img src=\"https://colab.research.google.com/assets/colab-badge.svg\" alt=\"Open In Colab\"/></a>"
      ]
    },
    {
      "cell_type": "code",
      "execution_count": null,
      "metadata": {
        "id": "y6ZuS5__8ove"
      },
      "outputs": [],
      "source": [
        "import re\n",
        "\n",
        "def check_password_strength(password):\n",
        "    length = len(password)\n",
        "    has_upper = any(c.isupper() for c in password)\n",
        "    has_lower = any(c.islower() for c in password)\n",
        "    has_digit = any(c.isdigit() for c in password)\n",
        "    has_special = bool(re.match(r'[!@#$%^&*(),.?\":{}|<>]', password))\n",
        "\n",
        "    score = 0\n",
        "    feedback = []\n",
        "\n",
        "    # Criteria 1: Length\n",
        "    if length >= 12:\n",
        "        score += 1\n",
        "    elif length >= 8:\n",
        "        feedback.append(\"Consider using a longer password for better security.\")\n",
        "\n",
        "    # Criteria 2: Presence of uppercase and lowercase letters\n",
        "    if has_upper and has_lower:\n",
        "        score += 1\n",
        "    else:\n",
        "        feedback.append(\"Mixing uppercase and lowercase letters enhances security.\")\n",
        "\n",
        "    # Criteria 3: Presence of numbers\n",
        "    if has_digit:\n",
        "        score += 1\n",
        "    else:\n",
        "        feedback.append(\"Including numbers adds to the complexity of the password.\")\n",
        "\n",
        "    # Criteria 4: Presence of special characters\n",
        "    if has_special:\n",
        "        score += 1\n",
        "    else:\n",
        "        feedback.append(\"Special characters provide an extra layer of security.\")\n",
        "\n",
        "    if score >= 3:\n",
        "        return \"Strong password! Keep it safe.\"\n",
        "    else:\n",
        "        return \"Weak password. \" + \" \".join(feedback)\n",
        "\n",
        "\n",
        "if __name__ == \"__main__\":\n",
        "    print(\"Welcome to the Password Strength Checker!\")\n",
        "    print(\"Please enter your password below:\")\n",
        "\n",
        "    while True:\n",
        "        password = input(\"> \")\n",
        "        if password.lower() == 'exit':\n",
        "            print(\"Exiting...\")\n",
        "            break\n",
        "        strength_feedback = check_password_strength(password)\n",
        "        print(strength_feedback)\n"
      ]
    }
  ]
}